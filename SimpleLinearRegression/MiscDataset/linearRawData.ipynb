{
 "cells": [
  {
   "cell_type": "code",
   "execution_count": 6,
   "id": "initial_id",
   "metadata": {
    "collapsed": true,
    "ExecuteTime": {
     "end_time": "2024-02-10T07:04:34.966662167Z",
     "start_time": "2024-02-10T07:04:34.926343592Z"
    }
   },
   "outputs": [],
   "source": [
    "import pandas as pd\n",
    "import numpy as np"
   ]
  },
  {
   "cell_type": "code",
   "outputs": [],
   "source": [
    "df = pd.read_csv('linearRawData.csv')"
   ],
   "metadata": {
    "collapsed": false,
    "ExecuteTime": {
     "end_time": "2024-02-10T07:11:51.327002231Z",
     "start_time": "2024-02-10T07:11:51.031926347Z"
    }
   },
   "id": "260609b69d077cc4",
   "execution_count": 18
  },
  {
   "cell_type": "code",
   "outputs": [
    {
     "data": {
      "text/plain": "        Unnamed: 0  feature1      target\n0                0 -0.445142   23.136758\n1                1  0.072545  118.460441\n2                2 -1.366360 -119.291554\n3                3  0.065654 -161.423879\n4                4 -0.321074 -158.935795\n...            ...       ...         ...\n999995      999995 -1.658399  -16.952064\n999996      999996  1.306171   99.958785\n999997      999997 -1.487774  -54.165296\n999998      999998  0.009367   61.062049\n999999      999999 -1.279103  -77.098384\n\n[1000000 rows x 3 columns]",
      "text/html": "<div>\n<style scoped>\n    .dataframe tbody tr th:only-of-type {\n        vertical-align: middle;\n    }\n\n    .dataframe tbody tr th {\n        vertical-align: top;\n    }\n\n    .dataframe thead th {\n        text-align: right;\n    }\n</style>\n<table border=\"1\" class=\"dataframe\">\n  <thead>\n    <tr style=\"text-align: right;\">\n      <th></th>\n      <th>Unnamed: 0</th>\n      <th>feature1</th>\n      <th>target</th>\n    </tr>\n  </thead>\n  <tbody>\n    <tr>\n      <th>0</th>\n      <td>0</td>\n      <td>-0.445142</td>\n      <td>23.136758</td>\n    </tr>\n    <tr>\n      <th>1</th>\n      <td>1</td>\n      <td>0.072545</td>\n      <td>118.460441</td>\n    </tr>\n    <tr>\n      <th>2</th>\n      <td>2</td>\n      <td>-1.366360</td>\n      <td>-119.291554</td>\n    </tr>\n    <tr>\n      <th>3</th>\n      <td>3</td>\n      <td>0.065654</td>\n      <td>-161.423879</td>\n    </tr>\n    <tr>\n      <th>4</th>\n      <td>4</td>\n      <td>-0.321074</td>\n      <td>-158.935795</td>\n    </tr>\n    <tr>\n      <th>...</th>\n      <td>...</td>\n      <td>...</td>\n      <td>...</td>\n    </tr>\n    <tr>\n      <th>999995</th>\n      <td>999995</td>\n      <td>-1.658399</td>\n      <td>-16.952064</td>\n    </tr>\n    <tr>\n      <th>999996</th>\n      <td>999996</td>\n      <td>1.306171</td>\n      <td>99.958785</td>\n    </tr>\n    <tr>\n      <th>999997</th>\n      <td>999997</td>\n      <td>-1.487774</td>\n      <td>-54.165296</td>\n    </tr>\n    <tr>\n      <th>999998</th>\n      <td>999998</td>\n      <td>0.009367</td>\n      <td>61.062049</td>\n    </tr>\n    <tr>\n      <th>999999</th>\n      <td>999999</td>\n      <td>-1.279103</td>\n      <td>-77.098384</td>\n    </tr>\n  </tbody>\n</table>\n<p>1000000 rows × 3 columns</p>\n</div>"
     },
     "execution_count": 4,
     "metadata": {},
     "output_type": "execute_result"
    }
   ],
   "source": [
    "df"
   ],
   "metadata": {
    "collapsed": false,
    "ExecuteTime": {
     "end_time": "2024-02-10T06:54:17.226992773Z",
     "start_time": "2024-02-10T06:54:17.170808412Z"
    }
   },
   "id": "4625f2885f764aca",
   "execution_count": 4
  },
  {
   "cell_type": "code",
   "outputs": [],
   "source": [
    "df.drop('Unnamed: 0', axis=1, inplace=True)"
   ],
   "metadata": {
    "collapsed": false
   },
   "id": "d6339de3cba03d0c"
  },
  {
   "cell_type": "code",
   "outputs": [
    {
     "name": "stdout",
     "output_type": "stream",
     "text": [
      "Mean squared error: 10773.590011965625\n",
      "Residual: 10773.585054050001\n",
      "r2 score: 0.08922805459225014\n"
     ]
    }
   ],
   "source": [
    "from sklearn.model_selection import train_test_split\n",
    "from sklearn.linear_model import LinearRegression\n",
    "from sklearn.metrics import mean_squared_error, r2_score\n",
    "\n",
    "features = df[['feature1']]\n",
    "target = df['target']\n",
    "\n",
    "x_train, x_test, y_train, y_test = train_test_split(features, target, test_size=0.2, random_state=0)\n",
    "\n",
    "model = LinearRegression()\n",
    "model.fit(x_train, y_train)\n",
    "\n",
    "y_pred = model.predict(x_test)\n",
    "\n",
    "mse = mean_squared_error(y_test, y_pred)\n",
    "r2 = r2_score(y_test, y_pred)\n",
    "\n",
    "residuals = y_test - y_pred\n",
    "residual_variance = np.var(residuals)\n",
    "\n",
    "print(f'Mean squared error: {mse}')\n",
    "print(f'Residual: {residual_variance}')\n",
    "print(f'r2 score: {r2}')"
   ],
   "metadata": {
    "collapsed": false,
    "ExecuteTime": {
     "end_time": "2024-02-10T07:12:44.904730998Z",
     "start_time": "2024-02-10T07:12:44.821374687Z"
    }
   },
   "id": "78085c92f2e54ae5",
   "execution_count": 20
  },
  {
   "cell_type": "code",
   "outputs": [],
   "source": [],
   "metadata": {
    "collapsed": false
   },
   "id": "406297ee9c734618"
  }
 ],
 "metadata": {
  "kernelspec": {
   "display_name": "Python 3",
   "language": "python",
   "name": "python3"
  },
  "language_info": {
   "codemirror_mode": {
    "name": "ipython",
    "version": 2
   },
   "file_extension": ".py",
   "mimetype": "text/x-python",
   "name": "python",
   "nbconvert_exporter": "python",
   "pygments_lexer": "ipython2",
   "version": "2.7.6"
  }
 },
 "nbformat": 4,
 "nbformat_minor": 5
}
