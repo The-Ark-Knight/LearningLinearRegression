{
 "cells": [
  {
   "cell_type": "code",
   "execution_count": 1,
   "id": "initial_id",
   "metadata": {
    "collapsed": true,
    "ExecuteTime": {
     "end_time": "2024-02-13T13:26:48.275896760Z",
     "start_time": "2024-02-13T13:26:47.378583454Z"
    }
   },
   "outputs": [
    {
     "name": "stdout",
     "output_type": "stream",
     "text": [
      "Mean squared error: 10773.590011965625\n",
      "Residual: 10773.585054050001\n",
      "r2 score: 0.08922805459225014\n"
     ]
    }
   ],
   "source": [
    "import pandas as pd\n",
    "import numpy as np\n",
    "\n",
    "df = pd.read_csv('linearRawData.csv')\n",
    "\n",
    "from scipy.stats import zscore\n",
    "\n",
    "z_scores = np.abs(zscore(df['feature1']))\n",
    "\n",
    "# Set a threshold for identifying outliers based on Z-score\n",
    "z_threshold = 1\n",
    "outliers_z = np.where(z_scores > z_threshold)\n",
    "\n",
    "# Calculate the IQR of the 'feature1' column\n",
    "iqr = df['feature1'].quantile(0.75) - df['feature1'].quantile(0.25)\n",
    "\n",
    "# Set a threshold for identifying outliers based on IQR\n",
    "iqr_threshold = 1.0\n",
    "outliers_iqr = np.where((df['feature1'] > df['feature1'].quantile(0.75) + iqr_threshold * iqr) | (df['feature1'] < df['feature1'].quantile(0.25) - iqr_threshold * iqr))\n",
    "\n",
    "# Identify and remove outliers based on both Z-score and IQR methods\n",
    "outliers = np.union1d(outliers_z[0], outliers_iqr[0])\n",
    "df_no_outliers = df.drop(outliers)\n",
    "\n",
    "df.drop('Unnamed: 0', axis=1, inplace=True)\n",
    "from sklearn.model_selection import train_test_split\n",
    "from sklearn.linear_model import LinearRegression\n",
    "from sklearn.metrics import mean_squared_error, r2_score\n",
    "\n",
    "features = df[['feature1']]\n",
    "target = df['target']\n",
    "\n",
    "x_train, x_test, y_train, y_test = train_test_split(features, target, test_size=0.2, random_state=0)\n",
    "\n",
    "model = LinearRegression()\n",
    "model.fit(x_train, y_train)\n",
    "\n",
    "y_pred = model.predict(x_test)\n",
    "\n",
    "mse = mean_squared_error(y_test, y_pred)\n",
    "r2 = r2_score(y_test, y_pred)\n",
    "\n",
    "residuals = y_test - y_pred\n",
    "residual_variance = np.var(residuals)\n",
    "\n",
    "print(f'Mean squared error: {mse}')\n",
    "print(f'Residual: {residual_variance}')\n",
    "print(f'r2 score: {r2}')"
   ]
  },
  {
   "cell_type": "code",
   "outputs": [],
   "source": [],
   "metadata": {
    "collapsed": false
   },
   "id": "1fc3c9acf13e0f7c"
  }
 ],
 "metadata": {
  "kernelspec": {
   "display_name": "Python 3",
   "language": "python",
   "name": "python3"
  },
  "language_info": {
   "codemirror_mode": {
    "name": "ipython",
    "version": 2
   },
   "file_extension": ".py",
   "mimetype": "text/x-python",
   "name": "python",
   "nbconvert_exporter": "python",
   "pygments_lexer": "ipython2",
   "version": "2.7.6"
  }
 },
 "nbformat": 4,
 "nbformat_minor": 5
}
